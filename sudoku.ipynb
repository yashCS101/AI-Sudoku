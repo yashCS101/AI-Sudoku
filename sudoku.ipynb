{
 "cells": [
  {
   "cell_type": "markdown",
   "metadata": {},
   "source": [
    "# Solving Sudoku Puzzles\n",
    "## Assignment Preamble\n",
    "Please ensure you carefully read all of the details and instructions on the assignment page, this section, and the rest of the notebook. If anything is unclear at any time please post on the forum or ask a tutor well in advance of the assignment deadline.\n",
    "\n",
    "In addition to all of the instructions in the body of the assignment below, you must also follow the following technical instructions for all assignments in this unit. *Failure to do so may result in a grade of zero.*\n",
    "* [At the bottom of the page](#Submission-Test) is some code which checks you meet the submission requirements. You **must** ensure that this runs correctly before submission.\n",
    "* Do not modify or delete any of the cells that are marked as test cells, even if they appear to be empty.\n",
    "* Do not duplicate any cells in the notebook – this can break the marking script. Instead, insert a new cell (e.g. from the menu) and copy across any contents as necessary.\n",
    "\n",
    "Remember to save and backup your work regularly, and double-check you are submitting the correct version.\n",
    "\n",
    "This notebook is the primary reference for your submission. You may write code in separate `.py` files but it must be clearly imported into the notebook so that it runs without needing to reference those files, and you must explain clearly what functionality is contained in those files (through comments, markdown cells, etc).\n",
    "\n",
    "As always, **the work you submit for this assignment must be entirely your own.** Do not copy or work with other students. Do not copy answers that you find online. These assignments are designed to help improve your understanding first and foremost – the process of doing the assignment is part of *learning*. They are also used to assess your ability, and so you must uphold academic integrity. Submitting plagiarised work risks your entire place on your degree.\n",
    "\n",
    "**You must implement your own work.** You can and are encouraged to use helper libraries like `numpy`, but you must not use 3rd-party libraries or code that solves the assignment for you. *Even if it is properly referenced*, you only get marks for work you have done. If you are unsure, ask on the forum or ask a tutor directly.\n",
    "\n",
    "**The pass mark for this assignment is 40%.** We expect that students, on average, will be able to produce a submission which gets a mark between 50-70% within the normal workload allocation for the unit, but this will vary depending on individual backgrounds. Please ask for help if you are struggling.\n",
    "\n",
    "## Getting Started\n",
    "For this assignment, you will be writing an agent that can solve sudoku puzzles. You should be familiar with sudoku puzzles from the unit material. You are given a 9x9 grid with some fixed values. To solve the puzzle, the objective is to fill the empty cells of the grid such that the numbers 1 to 9 appear exactly once in each row, column, and 3x3 block of the grid. \n",
    "\n",
    "Below is a sample puzzle along with its solution. \n",
    "\n",
    "<img src=\"images/sudoku.png\" style=\"width: 50%;\"/>\n",
    "\n",
    "For this assignment you will need to submit:\n",
    "1. The implementation for an agent which can solve sudoku puzzles – this notebook\n",
    " * You can use any algorithm you like, from the unit material or otherwise\n",
    " * Your code will be subject to automated testing, from which grades will be assigned based on whether it can solve sudokus of varying difficulty\n",
    " * To get a high grade on this assignment, the speed of your code will also be a factor – the quicker the better\n",
    " * There are some sample tests included below, make sure your code is compatible with the format of these tests\n",
    "2. A text file that explains your approach and the decisions you made in your own words – a readme file\n",
    " * Submissions that do not include the written section will receive zero marks – **this part is mandatory**\n",
    " * You may write your file in plain text (.txt) or [Markdown](https://www.markdownguide.org/basic-syntax/) (.md)\n",
    " * To get top marks on this assignment, as well as getting a high grade from your implementation, you must also demonstrate excellent academic presentation in your written section\n",
    "\n",
    "### Choice of Algorithm\n",
    "The choice of algorithm to solve sudoku puzzles is up to you. We expect you will use search techniques from the unit, but you could make something up yourself, or do some independent research to find something else. You will need to evaluate and balance the trade-off between how well suited you think the algorithm is and how difficult it is to write, but there is some advice below.\n",
    "\n",
    "You should also consider what *data structures* you use within your code. Certain algorithms will work much faster with certain data structures, and understanding this is considered part of understanding the algorithm itself. \n",
    "\n",
    "I suggest you implement *constraint satisfaction* as it is described in the unit material. A good implementation of a backtracking depth-first search with constraint propagation should be sufficient to get a good grade in the automated tests (roughly 60-70%). There is an example of constraint satisfaction on the eight-queens puzzle, and you could use this as a guide to help you get started.\n",
    "\n",
    "You could also write a successful agent that uses the other search techniques you have seen in the unit so far: basic search, heuristic search, or local search. You may find these easier to implement, though they may perform less well. \n",
    "\n",
    "To get a high grade on this assignment will require a particularly efficient implementation of constraint satisfaction, or something which goes beyond the material we have presented. *This is left unguided and is not factored into the unit workload estimates.*\n",
    "\n",
    "If you choose to implement more than one algorithm, please feel free to include your code and write about it in part two (readme file), but only the code in this notebook will be used in the automated testing.\n",
    "\n",
    "## Sample Sudoku Puzzles\n",
    "To get started, the cell below will load in some sample sudoku puzzles for you so you can see the format. There are sudokus provided of multiple difficulties (easier sudokus typically start with more digits provided). The cell below only loads the easiest, but there is another test cell lower in the notebook which will run your code against all of the provided puzzles.\n",
    "\n",
    "Each sudoku is a 9x9 NumPy array of integers, where zero represents an empty square. Each difficulty comes with 15 sudokus, so when you load the file, it is stored in a 15x9x9 array."
   ]
  },
  {
   "cell_type": "code",
   "execution_count": 1,
   "metadata": {},
   "outputs": [
    {
     "name": "stdout",
     "output_type": "stream",
     "text": [
      "very_easy_puzzle.npy has been loaded into the variable sudoku\n",
      "sudoku.shape: (15, 9, 9), sudoku[0].shape: (9, 9), sudoku.dtype: int8\n",
      "\n",
      "First sudoku:\n",
      "[[1 0 4 3 8 2 9 5 6]\n",
      " [2 0 5 4 6 7 1 3 8]\n",
      " [3 8 6 9 5 1 4 0 2]\n",
      " [4 6 1 5 2 3 8 9 7]\n",
      " [7 3 8 1 4 9 6 2 5]\n",
      " [9 5 2 8 7 6 3 1 4]\n",
      " [5 2 9 6 3 4 7 8 1]\n",
      " [6 0 7 2 9 8 5 4 3]\n",
      " [8 4 3 0 1 5 2 6 9]] \n",
      "\n",
      "Solution of first sudoku:\n",
      "[[1 7 4 3 8 2 9 5 6]\n",
      " [2 9 5 4 6 7 1 3 8]\n",
      " [3 8 6 9 5 1 4 7 2]\n",
      " [4 6 1 5 2 3 8 9 7]\n",
      " [7 3 8 1 4 9 6 2 5]\n",
      " [9 5 2 8 7 6 3 1 4]\n",
      " [5 2 9 6 3 4 7 8 1]\n",
      " [6 1 7 2 9 8 5 4 3]\n",
      " [8 4 3 7 1 5 2 6 9]]\n"
     ]
    }
   ],
   "source": [
    "import numpy as np\n",
    "\n",
    "# Load sudokus\n",
    "sudoku = np.load(\"data/very_easy_puzzle.npy\")\n",
    "print(\"very_easy_puzzle.npy has been loaded into the variable sudoku\")\n",
    "print(f\"sudoku.shape: {sudoku.shape}, sudoku[0].shape: {sudoku[0].shape}, sudoku.dtype: {sudoku.dtype}\")\n",
    "\n",
    "# Load solutions for demonstration\n",
    "solutions = np.load(\"data/very_easy_solution.npy\")\n",
    "print()\n",
    "\n",
    "# Print the first 9x9 sudoku...\n",
    "print(\"First sudoku:\")\n",
    "print(sudoku[0], \"\\n\")\n",
    "\n",
    "# ...and its solution\n",
    "print(\"Solution of first sudoku:\")\n",
    "print(solutions[0])"
   ]
  },
  {
   "cell_type": "code",
   "execution_count": 14,
   "metadata": {},
   "outputs": [],
   "source": [
    "ss = sudoku[0]"
   ]
  },
  {
   "cell_type": "code",
   "execution_count": 266,
   "metadata": {},
   "outputs": [
    {
     "name": "stdout",
     "output_type": "stream",
     "text": [
      "[[1 7 4 3 8 2 9 5 6]\n",
      " [2 9 5 4 6 7 1 3 8]\n",
      " [3 8 6 9 5 1 4 7 2]\n",
      " [4 6 1 5 2 3 8 9 7]\n",
      " [7 3 8 1 4 9 6 2 5]\n",
      " [9 5 2 8 7 6 3 1 4]\n",
      " [5 2 9 6 3 4 7 8 1]\n",
      " [6 1 7 2 9 8 5 4 3]\n",
      " [8 4 3 7 1 5 2 6 9]]\n"
     ]
    }
   ],
   "source": [
    "print(ss)"
   ]
  },
  {
   "cell_type": "markdown",
   "metadata": {},
   "source": [
    "## Part One\n",
    "You should write all of your code for solving sudokus below this cell.\n",
    "\n",
    "You must include a function called `sudoku_solver(sudoku)` which takes one sudoku puzzle (a 9x9 NumPy array) as input, and returns the solved sudoku as another 9x9 NumPy array. This is the function which will be tested. "
   ]
  },
  {
   "cell_type": "code",
   "execution_count": 16,
   "metadata": {},
   "outputs": [],
   "source": [
    "class Environment:\n",
    "    \n",
    "    def __init__(self, board):\n",
    "        self.board = board\n",
    "    \n",
    "    def possible_values(self, position):\n",
    "        i = position[0]\n",
    "        j = position[1]\n",
    "        values = []\n",
    "\n",
    "        row = self.board[i]\n",
    "        row_low = (i // 3) * 3\n",
    "        row_high = row_low + 3\n",
    "\n",
    "        col = self.board[:, j]\n",
    "        col_low = (j // 3) * 3\n",
    "        col_high = col_low + 3\n",
    "\n",
    "        #Check the small 3x3 square\n",
    "        small_board = self.board[row_low:row_high, col_low:col_high]\n",
    "\n",
    "        for x in range(1, 10):\n",
    "            if x not in row:\n",
    "                if x not in col:\n",
    "                    if x not in small_board:\n",
    "                        values.append(x)\n",
    "\n",
    "        return values\n",
    "\n",
    "\n",
    "    def empty_cells(self):\n",
    "        list_emptycells = []\n",
    "        for i in range(9):\n",
    "            for j in range(9):\n",
    "                if self.board[i, j] == 0:\n",
    "                    list_emptycells.append((i, j))\n",
    "        return list_emptycells\n",
    "\n",
    "    def is_complete(self):\n",
    "        for i in range(9):\n",
    "            for j in range(9):\n",
    "                if self.board[i, j] == 0:\n",
    "                    return False\n",
    "        return True\n",
    "\n",
    "    def no_solution(self):\n",
    "        for i in range(9):\n",
    "            for j in range(9):\n",
    "                self.board[i, j] = -1\n",
    "        return self.board\n",
    "\n",
    "    \n",
    "    def possible_values_count(self, empty_cells):\n",
    "        for cell in empty_cells:\n",
    "            possible_values = self.possible_values(cell)\n",
    "\n",
    "            if len(possible_values) == 1:\n",
    "                return False\n",
    "        return True\n",
    "\n",
    "    \n",
    "    def run_constraintpropagation(self):\n",
    "        while not self.possible_values_count(self.empty_cells()):\n",
    "            position_to_fill = self.empty_cells()\n",
    "            for position in position_to_fill:\n",
    "                possible_values = self.possible_values(position)\n",
    "\n",
    "                if len(possible_values) == 1:\n",
    "                    self.board[position[0], position[1]] = possible_values[0]\n",
    "        \n",
    "                \n",
    "        \n"
   ]
  },
  {
   "cell_type": "code",
   "execution_count": 17,
   "metadata": {},
   "outputs": [],
   "source": [
    "def sudo_check(sudo_board):\n",
    "    \n",
    "    #check row\n",
    "    for i in range(9):\n",
    "        dup_list = []\n",
    "        for j in range(9):\n",
    "            if sudo_board[j][i] != 0:\n",
    "                if sudo_board[j][i] in dup_list:\n",
    "                    return True\n",
    "                else:\n",
    "                    dup_list.append(sudo_board[j][i])\n",
    "                \n",
    "    #check col\n",
    "    for i in range(9):\n",
    "        dup_list = []\n",
    "        for j in range(9):\n",
    "            if sudo_board[i][j] != 0:\n",
    "                if sudo_board[i][j] in dup_list:\n",
    "                    return True\n",
    "                else:\n",
    "                    dup_list.append(sudo_board[i][j])\n",
    "                    \n",
    "    # no need to check the mini board"
   ]
  },
  {
   "cell_type": "code",
   "execution_count": 18,
   "metadata": {},
   "outputs": [],
   "source": [
    "\n",
    "def backtrack(sudoku):\n",
    "    if sudoku.is_complete():\n",
    "        return True\n",
    "    \n",
    "    #Optimization in backtracking, to save time, we will first look at lower number of possible values\n",
    "    empty_po = sudoku.empty_cells()\n",
    "    domain_lengths = []\n",
    "    for p in empty_po:\n",
    "        possible_values = sudoku.possible_values(p)\n",
    "        domain_lengths.append(len(possible_values))\n",
    "\n",
    "    sort_empty_position = [x for _, x in sorted(zip(domain_lengths, empty_po))]\n",
    "    \n",
    "    #Recursive call of backtrack for every move when stuck\n",
    "    for p in sort_empty_position:\n",
    "        possible_values = sudoku.possible_values(p)\n",
    "        for m in possible_values:\n",
    "            sudoku.board[p[0], p[1]] = m\n",
    "            board_clone = np.copy(sudoku.board)\n",
    "            sudoku.run_constraintpropagation()\n",
    "            if sudoku.is_complete(): \n",
    "                return True\n",
    "            else:\n",
    "                sudoku.board = board_clone\n",
    "            if backtrack(sudoku):\n",
    "                return True\n",
    "            else:\n",
    "                sudoku.board[p[0], p[1]] = 0\n",
    "        return False\n"
   ]
  },
  {
   "cell_type": "code",
   "execution_count": 260,
   "metadata": {},
   "outputs": [
    {
     "data": {
      "text/plain": [
       "[]"
      ]
     },
     "execution_count": 260,
     "metadata": {},
     "output_type": "execute_result"
    }
   ],
   "source": [
    "test = Environment(ss)\n",
    "test.empty_position()"
   ]
  },
  {
   "cell_type": "code",
   "execution_count": 203,
   "metadata": {},
   "outputs": [
    {
     "data": {
      "text/plain": [
       "[9]"
      ]
     },
     "execution_count": 203,
     "metadata": {},
     "output_type": "execute_result"
    }
   ],
   "source": [
    "test.possible_values((1,1))"
   ]
  },
  {
   "cell_type": "code",
   "execution_count": 233,
   "metadata": {},
   "outputs": [
    {
     "data": {
      "text/plain": [
       "array([[-1, -1, -1, -1, -1, -1, -1, -1, -1],\n",
       "       [-1, -1, -1, -1, -1, -1, -1, -1, -1],\n",
       "       [-1, -1, -1, -1, -1, -1, -1, -1, -1],\n",
       "       [-1, -1, -1, -1, -1, -1, -1, -1, -1],\n",
       "       [-1, -1, -1, -1, -1, -1, -1, -1, -1],\n",
       "       [-1, -1, -1, -1, -1, -1, -1, -1, -1],\n",
       "       [-1, -1, -1, -1, -1, -1, -1, -1, -1],\n",
       "       [-1, -1, -1, -1, -1, -1, -1, -1, -1],\n",
       "       [-1, -1, -1, -1, -1, -1, -1, -1, -1]], dtype=int8)"
      ]
     },
     "execution_count": 233,
     "metadata": {},
     "output_type": "execute_result"
    }
   ],
   "source": [
    "test.no_solution()"
   ]
  },
  {
   "cell_type": "code",
   "execution_count": 267,
   "metadata": {},
   "outputs": [],
   "source": [
    "test1 = Environment(ss)"
   ]
  },
  {
   "cell_type": "code",
   "execution_count": 268,
   "metadata": {},
   "outputs": [
    {
     "name": "stdout",
     "output_type": "stream",
     "text": [
      "<__main__.Environment object at 0x7fbfb96ca6d0>\n"
     ]
    }
   ],
   "source": [
    "if backtrack(test1):\n",
    "    print(test1)"
   ]
  },
  {
   "cell_type": "code",
   "execution_count": 19,
   "metadata": {
    "deletable": false,
    "nbgrader": {
     "cell_type": "code",
     "checksum": "aa2f3c273c967fc2b97930e6e75c37ed",
     "grade": false,
     "grade_id": "cell-f383ea85fd8814d3",
     "locked": false,
     "schema_version": 3,
     "solution": true,
     "task": false
    }
   },
   "outputs": [],
   "source": [
    "def sudoku_solver(board):\n",
    "    \"\"\"\n",
    "    Solves a Sudoku puzzle and returns its unique solution.\n",
    "\n",
    "    Input\n",
    "        sudoku : 9x9 numpy array\n",
    "            Empty cells are designated by 0.\n",
    "\n",
    "    Outputg\n",
    "        9x9 numpy array of integers\n",
    "            It contains the solution, if there is one. If there is no solution, all array entries should be -1.\n",
    "    \"\"\"\n",
    "    \n",
    "    ### YOUR CODE HERE\n",
    "    \n",
    "    if sudo_check(board):\n",
    "        #print(\"bad\")\n",
    "        return np.full((9,9),-1)\n",
    "    s = Environment(board)\n",
    "    s.run_constraintpropagation()\n",
    "    if s.is_complete():\n",
    "        return s.board\n",
    "    else:\n",
    "        #print(\"Done\")\n",
    "        if backtrack(s):\n",
    "            return s.board\n",
    "        else:\n",
    "            return s.no_solution()\n",
    "        \n",
    "    #return solved_sudoku\n",
    "      "
   ]
  },
  {
   "cell_type": "code",
   "execution_count": 15,
   "metadata": {},
   "outputs": [
    {
     "name": "stdout",
     "output_type": "stream",
     "text": [
      "[(0, 1), (1, 1), (2, 7), (7, 1), (8, 3)]\n"
     ]
    },
    {
     "data": {
      "text/plain": [
       "array([[1, 7, 4, 3, 8, 2, 9, 5, 6],\n",
       "       [2, 9, 5, 4, 6, 7, 1, 3, 8],\n",
       "       [3, 8, 6, 9, 5, 1, 4, 7, 2],\n",
       "       [4, 6, 1, 5, 2, 3, 8, 9, 7],\n",
       "       [7, 3, 8, 1, 4, 9, 6, 2, 5],\n",
       "       [9, 5, 2, 8, 7, 6, 3, 1, 4],\n",
       "       [5, 2, 9, 6, 3, 4, 7, 8, 1],\n",
       "       [6, 1, 7, 2, 9, 8, 5, 4, 3],\n",
       "       [8, 4, 3, 7, 1, 5, 2, 6, 9]], dtype=int8)"
      ]
     },
     "execution_count": 15,
     "metadata": {},
     "output_type": "execute_result"
    }
   ],
   "source": [
    "sudoku_solver(ss)"
   ]
  },
  {
   "cell_type": "markdown",
   "metadata": {},
   "source": [
    "All of your code must go above this cell. You may add additional cells into the notebook if you wish, but do not duplicate or copy/paste cells as this can interfere with the grading script.\n",
    "\n",
    "### Testing Details\n",
    "There are four difficulties of sudoku provided: very easy, easy, medium, and hard. There are 15 sample sudokus in each category, with solutions as well. Difficulty was determined using reference solvers, but your code may vary; it is conceivable that your code will find some sudokus much easier or harder within a given category, or even between categories.\n",
    "\n",
    "*All categories that are easy and above will contain* ***invalid initial states***, that is, sudoku puzzles with no solution. In this case, your function should return a 9x9 NumPy array whose values are all equal to -1.\n",
    "\n",
    "When we test your code, we will firstly test it on the *same* very easy puzzles that you have been given. Then we will test it on additional *hidden* sudokus from each difficulty in turn, easy and up – many more than 15 of each. Grades are awarded based on whether your code can solve the puzzles. For high grades on the hard puzzles, execution time will also be a factor. \n",
    "\n",
    "All puzzles must take under 20 seconds each on the test machine to count as successful – if it takes longer, it will timeout. Note that this is a maximum, not a goal. Higher grades require better performance on harder puzzles. As a very rough benchmark, you should be aiming for an average of under a second per puzzle. Hardware varies, but all tests will take place on the same modern desktop machine. Our ‘standard constraint satisfaction’ implementation takes about 0.001 seconds per puzzle for the very easy category, but struggles to solve some of the hard puzzles within the time limit.\n",
    "\n",
    "***The hard sudokus are labelled as hard for a reason.*** We expect most submissions will not be able to solve them in a reasonable length of time. Use the stop button (■) on the toolbar if you need to terminate your code because it is taking too long.\n",
    "\n",
    "The best way to improve the performance of your code is through a detailed understanding and smart choice of AI algorithms and data structures. This assignment is ***not*** meant to test your ability to write multi-threaded code or any other kind of high-performance code optimisations. \n",
    "\n",
    "#### Test Cell\n",
    "The following code will run your solution over the provided sudoku puzzles. To enable it, set the constant `SKIP_TESTS` to `False`. If you fail any tests of one difficulty, the code will stop, but you can modify this behaviour if you like.\n",
    "\n",
    "**IMPORTANT**: you must set `SKIP_TESTS` back to `True` before submitting this file!"
   ]
  },
  {
   "cell_type": "code",
   "execution_count": 24,
   "metadata": {},
   "outputs": [],
   "source": [
    "SKIP_TESTS = True\n",
    "\n",
    "def tests():\n",
    "    import time\n",
    "    difficulties = ['very_easy', 'easy', 'medium', 'hard']\n",
    "\n",
    "    for difficulty in difficulties:\n",
    "        print(f\"Testing {difficulty} sudokus\")\n",
    "        \n",
    "        sudokus = np.load(f\"data/{difficulty}_puzzle.npy\")\n",
    "        solutions = np.load(f\"data/{difficulty}_solution.npy\")\n",
    "        \n",
    "        count = 0\n",
    "        for i in range(len(sudokus)):\n",
    "            sudoku = sudokus[i].copy()\n",
    "            print(f\"This is {difficulty} sudoku number\", i)\n",
    "            print(sudoku)\n",
    "            \n",
    "            start_time = time.process_time()\n",
    "            your_solution = sudoku_solver(sudoku)\n",
    "            end_time = time.process_time()\n",
    "            \n",
    "            print(f\"This is your solution for {difficulty} sudoku number\", i)\n",
    "            print(your_solution)\n",
    "            \n",
    "            print(\"Is your solution correct?\")\n",
    "            if np.array_equal(your_solution, solutions[i]):\n",
    "                print(\"Yes! Correct solution.\")\n",
    "                count += 1\n",
    "            else:\n",
    "                print(\"No, the correct solution is:\")\n",
    "                print(solutions[i])\n",
    "            \n",
    "            print(\"This sudoku took\", end_time-start_time, \"seconds to solve.\\n\")\n",
    "\n",
    "        print(f\"{count}/{len(sudokus)} {difficulty} sudokus correct\")\n",
    "        if count < len(sudokus):\n",
    "            break\n",
    "            \n",
    "if not SKIP_TESTS:\n",
    "    tests()"
   ]
  },
  {
   "cell_type": "markdown",
   "metadata": {},
   "source": [
    "## Submission Test\n",
    "The following cell tests if your notebook is ready for submission. **You must not skip this step!**\n",
    "\n",
    "Restart the kernel and run the entire notebook (Kernel → Restart & Run All). Now look at the output of the cell below. \n",
    "\n",
    "*If there is no output, then your submission is not ready.* Either your code is still running (did you forget to skip tests?) or it caused an error.\n",
    "\n",
    "As previously mentioned, failing to follow these instructions can result in a grade of zero."
   ]
  },
  {
   "cell_type": "code",
   "execution_count": 25,
   "metadata": {
    "deletable": false,
    "editable": false,
    "nbgrader": {
     "cell_type": "code",
     "checksum": "351cdb7141416be3f8bbc09756559378",
     "grade": false,
     "grade_id": "cell-a63a4d748ed51f34",
     "locked": true,
     "schema_version": 3,
     "solution": false,
     "task": false
    }
   },
   "outputs": [
    {
     "name": "stdout",
     "output_type": "stream",
     "text": [
      "All checks passed. When you are ready to submit, upload the notebook and readme file to the\n",
      "assignment page, without changing any filenames.\n",
      "\n",
      "If you need to submit multiple files, you can archive them in a .zip file. (No other format.)\n"
     ]
    }
   ],
   "source": [
    "def submission_tests():\n",
    "    import sys\n",
    "    import pathlib\n",
    "\n",
    "    fail = False;\n",
    "\n",
    "    if not SKIP_TESTS:\n",
    "        fail = True;\n",
    "        print(\"You must set the SKIP_TESTS constant to True in the cell above.\")\n",
    "\n",
    "    p1 = pathlib.Path('./readme.txt')\n",
    "    p2 = pathlib.Path('./readme.md')\n",
    "    if not (p1.is_file() or p2.is_file()):\n",
    "        fail = True;\n",
    "        print(\"You must include a separate file called readme.txt or readme.md in your submission.\")\n",
    "\n",
    "    p3 = pathlib.Path('./sudoku.ipynb')\n",
    "    if not p3.is_file():\n",
    "        fail = True\n",
    "        print(\"This notebook file must be named sudoku.ipynb\")\n",
    "\n",
    "    if \"sudoku_solver\" not in globals():\n",
    "        fail = True;\n",
    "        print(\"You must include a function called sudoku_solver which accepts a numpy array.\")\n",
    "    else: \n",
    "        sudoku = np.load(\"data/very_easy_puzzle.npy\")[0]\n",
    "        solution = np.load(\"data/very_easy_solution.npy\")[0]\n",
    "\n",
    "        if not np.array_equal(sudoku_solver(sudoku), solution):\n",
    "            print(\"Warning:\")\n",
    "            print(\"Your sudoku_solver function does not correctly solve the first sudoku.\")\n",
    "            print()\n",
    "            print(\"Your assignment is unlikely to get any marks from the autograder. While we will\")\n",
    "            print(\"try to check it manually to assign some partial credit, we encourage you to ask\")\n",
    "            print(\"for help on the forum or directly to a tutor.\")\n",
    "            print()\n",
    "            print(\"Please use the readme file to explain your code anyway.\")\n",
    "\n",
    "    if fail:\n",
    "        print()\n",
    "        sys.stderr.write(\"Your submission is not ready! Please read and follow the instructions above.\")\n",
    "    else:\n",
    "        print(\"All checks passed. When you are ready to submit, upload the notebook and readme file to the\")\n",
    "        print(\"assignment page, without changing any filenames.\")\n",
    "        print()\n",
    "        print(\"If you need to submit multiple files, you can archive them in a .zip file. (No other format.)\")\n",
    "        \n",
    "submission_tests()"
   ]
  },
  {
   "cell_type": "code",
   "execution_count": null,
   "metadata": {
    "deletable": false,
    "editable": false,
    "nbgrader": {
     "cell_type": "code",
     "checksum": "8e3783f006efdaed42b84b97c9323ed5",
     "grade": true,
     "grade_id": "cell-fe8038dbd05ddef7",
     "locked": true,
     "points": 100,
     "schema_version": 3,
     "solution": false,
     "task": false
    }
   },
   "outputs": [],
   "source": [
    "# This is a TEST CELL. Do not delete or change."
   ]
  }
 ],
 "metadata": {
  "kernelspec": {
   "display_name": "Python 3",
   "language": "python",
   "name": "python3"
  },
  "language_info": {
   "codemirror_mode": {
    "name": "ipython",
    "version": 3
   },
   "file_extension": ".py",
   "mimetype": "text/x-python",
   "name": "python",
   "nbconvert_exporter": "python",
   "pygments_lexer": "ipython3",
   "version": "3.8.8"
  }
 },
 "nbformat": 4,
 "nbformat_minor": 4
}
